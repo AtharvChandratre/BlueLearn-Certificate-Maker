{
 "metadata": {
  "language_info": {
   "codemirror_mode": {
    "name": "ipython",
    "version": 3
   },
   "file_extension": ".py",
   "mimetype": "text/x-python",
   "name": "python",
   "nbconvert_exporter": "python",
   "pygments_lexer": "ipython3",
   "version": "3.8.2"
  },
  "orig_nbformat": 2,
  "kernelspec": {
   "name": "python382jvsc74a57bd031f2aee4e71d21fbe5cf8b01ff0e069b9275f58929596ceb00d14d90e3e16cd6",
   "display_name": "Python 3.8.2 64-bit"
  },
  "metadata": {
   "interpreter": {
    "hash": "31f2aee4e71d21fbe5cf8b01ff0e069b9275f58929596ceb00d14d90e3e16cd6"
   }
  }
 },
 "nbformat": 4,
 "nbformat_minor": 2,
 "cells": [
  {
   "source": [
    "# pip install pillow pandas xlrd openpyxl"
   ],
   "cell_type": "code",
   "metadata": {},
   "execution_count": 1,
   "outputs": []
  },
  {
   "cell_type": "code",
   "execution_count": 2,
   "metadata": {},
   "outputs": [],
   "source": [
    "from PIL import Image, ImageFont, ImageDraw \n",
    "import pandas as pd\n",
    "import os"
   ]
  },
  {
   "cell_type": "code",
   "execution_count": 3,
   "metadata": {},
   "outputs": [],
   "source": [
    "df = pd.read_excel (r'names_completion.xlsx')"
   ]
  },
  {
   "cell_type": "code",
   "execution_count": 4,
   "metadata": {},
   "outputs": [],
   "source": [
    "title_font = ImageFont.truetype('fonts/PlayfairDisplaySC-Bold.ttf', 80)"
   ]
  },
  {
   "cell_type": "code",
   "execution_count": 5,
   "metadata": {},
   "outputs": [
    {
     "output_type": "stream",
     "name": "stdout",
     "text": [
      "Parth Dasawant\n",
      "Mohammad Zaid Khan\n",
      "Mohit Nathwani\n",
      "Siddharth Poddar\n",
      "Fouzan Mirza\n",
      "Akshat Bhatt\n",
      "Anantika Bajpai\n",
      "Anashua Dastidar\n",
      "Aniket Boryal\n",
      "Anjani Bahl\n",
      "Devendra Singh Chauhan\n",
      "Divyanshu Agrawal\n",
      "Ananya Sharma\n",
      "Mohit Hotwani\n",
      "Moksh Bainsla\n",
      "Naman Jain\n",
      "Sagar H R\n",
      "Shray Narang\n",
      "Shridhar Kamat\n",
      "Shristi Thakur\n",
      "Lokesh Shukla\n",
      "Srajan Soni\n",
      "Srija Vuppala\n"
     ]
    }
   ],
   "source": [
    "for index,contents in df.iterrows():\n",
    "    print(contents['Names'])\n",
    "    name = contents['Names']\n",
    "    my_image = Image.open(\"master-certificate/certificate_completion.jpg\")\n",
    "    width,height = my_image.size\n",
    "    image_editable = ImageDraw.Draw(my_image)\n",
    "    w, h = image_editable.textsize(name.upper(),font=title_font)\n",
    "    image_editable.text((((width-w)/2),((height-1.85*h)/2)), name.upper(), fill=(171, 40, 73), font=title_font, align='center')\n",
    "    filename = \"output/\"+name+\"_Completion.jpg\"\n",
    "    my_image.save(filename)\n"
   ]
  },
  {
   "cell_type": "code",
   "execution_count": 6,
   "metadata": {},
   "outputs": [],
   "source": [
    "df = pd.read_excel (r'names_achievement.xlsx')"
   ]
  },
  {
   "cell_type": "code",
   "execution_count": 7,
   "metadata": {},
   "outputs": [
    {
     "output_type": "stream",
     "name": "stdout",
     "text": [
      "Siddharth Poddar\n",
      "Anantika Bajpai\n",
      "Anashua Dastidar\n",
      "Aniket Boryal\n",
      "Anjani Bahl\n",
      "Moksh Bainsla\n",
      "Sagar H R\n",
      "Shray Narang\n",
      "Shridhar Kamat\n",
      "Shristi Thakur\n",
      "Srajan Soni\n",
      "Srija Vuppala\n"
     ]
    }
   ],
   "source": [
    "for index,contents in df.iterrows():\n",
    "    print(contents['Names'])\n",
    "    name = contents['Names']\n",
    "    my_image = Image.open(\"master-certificate/certificate_achievement.jpg\")\n",
    "    width,height = my_image.size\n",
    "    image_editable = ImageDraw.Draw(my_image)\n",
    "    w, h = image_editable.textsize(name.upper(),font=title_font)\n",
    "    image_editable.text((((width-w)/2),((height-1.85*h)/2)), name.upper(), fill=(171, 40, 73), font=title_font, align='center')\n",
    "    filename = \"output/\"+name+\"_Achievement.jpg\"\n",
    "    my_image.save(filename)"
   ]
  }
 ]
}